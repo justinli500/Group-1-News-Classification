{
 "cells": [
  {
   "cell_type": "markdown",
   "metadata": {},
   "source": [
    "# Load data here"
   ]
  },
  {
   "cell_type": "markdown",
   "metadata": {},
   "source": [
    "## Imports and Constants"
   ]
  },
  {
   "cell_type": "code",
   "execution_count": 4,
   "metadata": {},
   "outputs": [],
   "source": [
    "import pandas as pd\n",
    "import os\n",
    "import json\n",
    "\n",
    "data_loc = \"./data/jsons\""
   ]
  },
  {
   "cell_type": "markdown",
   "metadata": {},
   "source": [
    "## Open and process files\n",
    "Load data"
   ]
  },
  {
   "cell_type": "code",
   "execution_count": 27,
   "metadata": {},
   "outputs": [],
   "source": [
    "# place to store data (as list of df)\n",
    "all_data = []\n",
    "\n",
    "# Thanks to Ishaan for giving direction on converting the jsons to df\n",
    "# loop directory\n",
    "for file in os.listdir(os.fsencode(data_loc)):\n",
    "    # get file name\n",
    "    filename = os.fsdecode(file)\n",
    "    # if json (no file errors)\n",
    "    if filename.endswith(\".json\"): \n",
    "        # load file data to json object\n",
    "        with open(os.path.join(data_loc, filename)) as json_file:\n",
    "            file_data = json.load(json_file)\n",
    "        # append json obj as a df object (ignore_index to re-index the compiled df)\n",
    "        all_data.append(pd.json_normalize(file_data)) \n",
    "\n",
    "data_ = pd.concat(all_data, ignore_index=True)"
   ]
  },
  {
   "cell_type": "markdown",
   "metadata": {},
   "source": [
    "Test data"
   ]
  },
  {
   "cell_type": "code",
   "execution_count": 28,
   "metadata": {},
   "outputs": [
    {
     "name": "stdout",
     "output_type": "stream",
     "text": [
      "Number of entries: 37554\n",
      "Example entry:topic                                                        politics\n",
      "source                                                       Politico\n",
      "bias                                                                0\n",
      "url                 https://www.politico.com/news/magazine/2019/11...\n",
      "title               Can the Impeachment Hearings Actually Change A...\n",
      "date                                                       2019-11-13\n",
      "authors                                                              \n",
      "content             This happens for different reasons , but a key...\n",
      "content_original    This happens for different reasons, but a key ...\n",
      "source_url                                           www.politico.com\n",
      "bias_text                                                        left\n",
      "ID                                                   bpp2Cqpvyi2ER5Lr\n",
      "Name: 0, dtype: object\n"
     ]
    }
   ],
   "source": [
    "print(f'Number of entries: {len(data_)}')\n",
    "print(f'Example entry:{data_.iloc[0]}')"
   ]
  }
 ],
 "metadata": {
  "kernelspec": {
   "display_name": "Python 3",
   "language": "python",
   "name": "python3"
  },
  "language_info": {
   "codemirror_mode": {
    "name": "ipython",
    "version": 3
   },
   "file_extension": ".py",
   "mimetype": "text/x-python",
   "name": "python",
   "nbconvert_exporter": "python",
   "pygments_lexer": "ipython3",
   "version": "3.11.2"
  }
 },
 "nbformat": 4,
 "nbformat_minor": 2
}
